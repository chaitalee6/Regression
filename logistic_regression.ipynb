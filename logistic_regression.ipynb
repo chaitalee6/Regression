{
 "cells": [
  {
   "cell_type": "code",
   "execution_count": 2,
   "metadata": {
    "collapsed": true
   },
   "outputs": [],
   "source": [
    "import numpy as np\n",
    "import matplotlib.pyplot as plt\n",
    "import pandas as pd"
   ]
  },
  {
   "cell_type": "code",
   "execution_count": 3,
   "metadata": {
    "collapsed": true
   },
   "outputs": [],
   "source": [
    "dataset = pd.read_csv('Social_Network_Ads.csv')\n",
    "X = dataset.iloc[:,[2,3]].values\n",
    "Y = dataset.iloc[:,4].values"
   ]
  },
  {
   "cell_type": "code",
   "execution_count": 5,
   "metadata": {},
   "outputs": [
    {
     "name": "stdout",
     "output_type": "stream",
     "text": [
      "      User ID  Gender  Age  EstimatedSalary  Purchased\n",
      "0    15624510    Male   19            19000          0\n",
      "1    15810944    Male   35            20000          0\n",
      "2    15668575  Female   26            43000          0\n",
      "3    15603246  Female   27            57000          0\n",
      "4    15804002    Male   19            76000          0\n",
      "5    15728773    Male   27            58000          0\n",
      "6    15598044  Female   27            84000          0\n",
      "7    15694829  Female   32           150000          1\n",
      "8    15600575    Male   25            33000          0\n",
      "9    15727311  Female   35            65000          0\n",
      "10   15570769  Female   26            80000          0\n",
      "11   15606274  Female   26            52000          0\n",
      "12   15746139    Male   20            86000          0\n",
      "13   15704987    Male   32            18000          0\n",
      "14   15628972    Male   18            82000          0\n",
      "15   15697686    Male   29            80000          0\n",
      "16   15733883    Male   47            25000          1\n",
      "17   15617482    Male   45            26000          1\n",
      "18   15704583    Male   46            28000          1\n",
      "19   15621083  Female   48            29000          1\n",
      "20   15649487    Male   45            22000          1\n",
      "21   15736760  Female   47            49000          1\n",
      "22   15714658    Male   48            41000          1\n",
      "23   15599081  Female   45            22000          1\n",
      "24   15705113    Male   46            23000          1\n",
      "25   15631159    Male   47            20000          1\n",
      "26   15792818    Male   49            28000          1\n",
      "27   15633531  Female   47            30000          1\n",
      "28   15744529    Male   29            43000          0\n",
      "29   15669656    Male   31            18000          0\n",
      "..        ...     ...  ...              ...        ...\n",
      "370  15611430  Female   60            46000          1\n",
      "371  15774744    Male   60            83000          1\n",
      "372  15629885  Female   39            73000          0\n",
      "373  15708791    Male   59           130000          1\n",
      "374  15793890  Female   37            80000          0\n",
      "375  15646091  Female   46            32000          1\n",
      "376  15596984  Female   46            74000          0\n",
      "377  15800215  Female   42            53000          0\n",
      "378  15577806    Male   41            87000          1\n",
      "379  15749381  Female   58            23000          1\n",
      "380  15683758    Male   42            64000          0\n",
      "381  15670615    Male   48            33000          1\n",
      "382  15715622  Female   44           139000          1\n",
      "383  15707634    Male   49            28000          1\n",
      "384  15806901  Female   57            33000          1\n",
      "385  15775335    Male   56            60000          1\n",
      "386  15724150  Female   49            39000          1\n",
      "387  15627220    Male   39            71000          0\n",
      "388  15672330    Male   47            34000          1\n",
      "389  15668521  Female   48            35000          1\n",
      "390  15807837    Male   48            33000          1\n",
      "391  15592570    Male   47            23000          1\n",
      "392  15748589  Female   45            45000          1\n",
      "393  15635893    Male   60            42000          1\n",
      "394  15757632  Female   39            59000          0\n",
      "395  15691863  Female   46            41000          1\n",
      "396  15706071    Male   51            23000          1\n",
      "397  15654296  Female   50            20000          1\n",
      "398  15755018    Male   36            33000          0\n",
      "399  15594041  Female   49            36000          1\n",
      "\n",
      "[400 rows x 5 columns]\n"
     ]
    }
   ],
   "source": [
    "print(dataset)"
   ]
  },
  {
   "cell_type": "code",
   "execution_count": 11,
   "metadata": {},
   "outputs": [],
   "source": [
    "from sklearn.model_selection import train_test_split\n",
    "X_trainset, X_testset, Y_trainset, Y_testset = train_test_split(X,Y,test_size=0.25,random_state=0)"
   ]
  },
  {
   "cell_type": "code",
   "execution_count": 14,
   "metadata": {},
   "outputs": [],
   "source": [
    "from sklearn.preprocessing import StandardScaler\n",
    "ss = StandardScaler()\n",
    "X_trainset =  ss.fit_transform(X_trainset)\n",
    "X_testset = ss.transform(X_testset)"
   ]
  },
  {
   "cell_type": "code",
   "execution_count": 19,
   "metadata": {},
   "outputs": [
    {
     "data": {
      "text/plain": [
       "LogisticRegression(C=1.0, class_weight=None, dual=False, fit_intercept=True,\n",
       "          intercept_scaling=1, max_iter=100, multi_class='ovr', n_jobs=1,\n",
       "          penalty='l2', random_state=0, solver='liblinear', tol=0.0001,\n",
       "          verbose=0, warm_start=False)"
      ]
     },
     "execution_count": 19,
     "metadata": {},
     "output_type": "execute_result"
    }
   ],
   "source": [
    "from sklearn.linear_model import LogisticRegression\n",
    "classifier = LogisticRegression(random_state=0)\n",
    "classifier.fit(X_trainset,Y_trainset)"
   ]
  },
  {
   "cell_type": "code",
   "execution_count": 20,
   "metadata": {
    "collapsed": true
   },
   "outputs": [],
   "source": [
    "Y_pred = classifier.predict(X_testset)\n",
    "from sklearn.metrics import confusion_matrix \n",
    "cm = confusion_matrix(Y_testset,Y_pred)"
   ]
  },
  {
   "cell_type": "code",
   "execution_count": 27,
   "metadata": {},
   "outputs": [
    {
     "data": {
      "image/png": "[encoded data removed]",
      "text/plain": [
       "<matplotlib.figure.Figure at 0x19f672c4630>"
      ]
     },
     "metadata": {},
     "output_type": "display_data"
    }
   ],
   "source": [
    "from matplotlib.colors import ListedColormap\n",
    "X_set, Y_set = X_testset, Y_testset\n",
    "X1, X2 = np.meshgrid(np.arange(start = X_set[:, 0].min() - 1, stop = X_set[:, 0].max() + 1, step = 0.01),\n",
    "                     np.arange(start = X_set[:, 1].min() - 1, stop = X_set[:, 1].max() + 1, step = 0.01))\n",
    "plt.contourf(X1, X2, classifier.predict(np.array([X1.ravel(), X2.ravel()]).T).reshape(X1.shape),\n",
    "             alpha = 0.75, cmap = ListedColormap(('teal', 'pink')))\n",
    "plt.xlim(X1.min(), X1.max())\n",
    "plt.ylim(X2.min(), X2.max())\n",
    "for i, j in enumerate(np.unique(Y_set)):\n",
    "    plt.scatter(X_set[Y_set == j, 0], X_set[Y_set == j, 1],\n",
    "                c = ListedColormap(('teal', 'pink'))(i), label = j)\n",
    "plt.title('Test set')\n",
    "plt.xlabel('Age')\n",
    "plt.ylabel('Salary')\n",
    "plt.legend()\n",
    "plt.show()"
   ]
  },
  {
   "cell_type": "code",
   "execution_count": null,
   "metadata": {
    "collapsed": true
   },
   "outputs": [],
   "source": []
  }
 ],
 "metadata": {
  "kernelspec": {
   "display_name": "Python 3",
   "language": "python",
   "name": "python3"
  },
  "language_info": {
   "codemirror_mode": {
    "name": "ipython",
    "version": 3
   },
   "file_extension": ".py",
   "mimetype": "text/x-python",
   "name": "python",
   "nbconvert_exporter": "python",
   "pygments_lexer": "ipython3",
   "version": "3.6.3"
  }
 },
 "nbformat": 4,
 "nbformat_minor": 2
}
